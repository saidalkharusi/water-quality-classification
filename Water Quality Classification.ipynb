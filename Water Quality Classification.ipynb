{
 "cells": [
  {
   "cell_type": "markdown",
   "id": "8399860c",
   "metadata": {},
   "source": [
    "# Water Quality Classification"
   ]
  },
  {
   "cell_type": "markdown",
   "id": "277877aa",
   "metadata": {},
   "source": [
    "In this project, we train a classifier using logistic regression to determine whether water is safe to drink or not. \n",
    "\n",
    "Dataset source: https://www.kaggle.com/datasets/mssmartypants/water-quality"
   ]
  },
  {
   "cell_type": "markdown",
   "id": "6a6bca44",
   "metadata": {},
   "source": [
    "## Dependenices"
   ]
  },
  {
   "cell_type": "markdown",
   "id": "e1c2a5e9",
   "metadata": {},
   "source": [
    "We start by importing the required depencies:"
   ]
  },
  {
   "cell_type": "code",
   "execution_count": 1,
   "id": "454462b4",
   "metadata": {},
   "outputs": [],
   "source": [
    "import pandas as pd\n",
    "from sklearn.model_selection import train_test_split\n",
    "from sklearn.linear_model import LogisticRegression\n",
    "from sklearn.metrics import accuracy_score"
   ]
  },
  {
   "cell_type": "markdown",
   "id": "b727cf3b",
   "metadata": {},
   "source": [
    "## Data Preporocessing"
   ]
  },
  {
   "cell_type": "markdown",
   "id": "98b27796",
   "metadata": {},
   "source": [
    "First of all, we load the data into a pandas dataframe, specifying the row containing the header:"
   ]
  },
  {
   "cell_type": "code",
   "execution_count": 2,
   "id": "4ea1e5bb",
   "metadata": {},
   "outputs": [],
   "source": [
    "df = pd.read_csv('water-quality-data.csv', header=0)"
   ]
  },
  {
   "cell_type": "markdown",
   "id": "5c326fb0",
   "metadata": {},
   "source": [
    "Let's inspect our data to ensure everything is alright:"
   ]
  },
  {
   "cell_type": "code",
   "execution_count": 3,
   "id": "f6d49922",
   "metadata": {},
   "outputs": [
    {
     "data": {
      "text/html": [
       "<div>\n",
       "<style scoped>\n",
       "    .dataframe tbody tr th:only-of-type {\n",
       "        vertical-align: middle;\n",
       "    }\n",
       "\n",
       "    .dataframe tbody tr th {\n",
       "        vertical-align: top;\n",
       "    }\n",
       "\n",
       "    .dataframe thead th {\n",
       "        text-align: right;\n",
       "    }\n",
       "</style>\n",
       "<table border=\"1\" class=\"dataframe\">\n",
       "  <thead>\n",
       "    <tr style=\"text-align: right;\">\n",
       "      <th></th>\n",
       "      <th>aluminium</th>\n",
       "      <th>ammonia</th>\n",
       "      <th>arsenic</th>\n",
       "      <th>barium</th>\n",
       "      <th>cadmium</th>\n",
       "      <th>chloramine</th>\n",
       "      <th>chromium</th>\n",
       "      <th>copper</th>\n",
       "      <th>flouride</th>\n",
       "      <th>bacteria</th>\n",
       "      <th>...</th>\n",
       "      <th>lead</th>\n",
       "      <th>nitrates</th>\n",
       "      <th>nitrites</th>\n",
       "      <th>mercury</th>\n",
       "      <th>perchlorate</th>\n",
       "      <th>radium</th>\n",
       "      <th>selenium</th>\n",
       "      <th>silver</th>\n",
       "      <th>uranium</th>\n",
       "      <th>is_safe</th>\n",
       "    </tr>\n",
       "  </thead>\n",
       "  <tbody>\n",
       "    <tr>\n",
       "      <th>0</th>\n",
       "      <td>1.65</td>\n",
       "      <td>9.08</td>\n",
       "      <td>0.04</td>\n",
       "      <td>2.85</td>\n",
       "      <td>0.007</td>\n",
       "      <td>0.35</td>\n",
       "      <td>0.83</td>\n",
       "      <td>0.17</td>\n",
       "      <td>0.05</td>\n",
       "      <td>0.20</td>\n",
       "      <td>...</td>\n",
       "      <td>0.054</td>\n",
       "      <td>16.08</td>\n",
       "      <td>1.13</td>\n",
       "      <td>0.007</td>\n",
       "      <td>37.75</td>\n",
       "      <td>6.78</td>\n",
       "      <td>0.08</td>\n",
       "      <td>0.34</td>\n",
       "      <td>0.02</td>\n",
       "      <td>1</td>\n",
       "    </tr>\n",
       "    <tr>\n",
       "      <th>1</th>\n",
       "      <td>2.32</td>\n",
       "      <td>21.16</td>\n",
       "      <td>0.01</td>\n",
       "      <td>3.31</td>\n",
       "      <td>0.002</td>\n",
       "      <td>5.28</td>\n",
       "      <td>0.68</td>\n",
       "      <td>0.66</td>\n",
       "      <td>0.90</td>\n",
       "      <td>0.65</td>\n",
       "      <td>...</td>\n",
       "      <td>0.100</td>\n",
       "      <td>2.01</td>\n",
       "      <td>1.93</td>\n",
       "      <td>0.003</td>\n",
       "      <td>32.26</td>\n",
       "      <td>3.21</td>\n",
       "      <td>0.08</td>\n",
       "      <td>0.27</td>\n",
       "      <td>0.05</td>\n",
       "      <td>1</td>\n",
       "    </tr>\n",
       "    <tr>\n",
       "      <th>2</th>\n",
       "      <td>1.01</td>\n",
       "      <td>14.02</td>\n",
       "      <td>0.04</td>\n",
       "      <td>0.58</td>\n",
       "      <td>0.008</td>\n",
       "      <td>4.24</td>\n",
       "      <td>0.53</td>\n",
       "      <td>0.02</td>\n",
       "      <td>0.99</td>\n",
       "      <td>0.05</td>\n",
       "      <td>...</td>\n",
       "      <td>0.078</td>\n",
       "      <td>14.16</td>\n",
       "      <td>1.11</td>\n",
       "      <td>0.006</td>\n",
       "      <td>50.28</td>\n",
       "      <td>7.07</td>\n",
       "      <td>0.07</td>\n",
       "      <td>0.44</td>\n",
       "      <td>0.01</td>\n",
       "      <td>0</td>\n",
       "    </tr>\n",
       "    <tr>\n",
       "      <th>3</th>\n",
       "      <td>1.36</td>\n",
       "      <td>11.33</td>\n",
       "      <td>0.04</td>\n",
       "      <td>2.96</td>\n",
       "      <td>0.001</td>\n",
       "      <td>7.23</td>\n",
       "      <td>0.03</td>\n",
       "      <td>1.66</td>\n",
       "      <td>1.08</td>\n",
       "      <td>0.71</td>\n",
       "      <td>...</td>\n",
       "      <td>0.016</td>\n",
       "      <td>1.41</td>\n",
       "      <td>1.29</td>\n",
       "      <td>0.004</td>\n",
       "      <td>9.12</td>\n",
       "      <td>1.72</td>\n",
       "      <td>0.02</td>\n",
       "      <td>0.45</td>\n",
       "      <td>0.05</td>\n",
       "      <td>1</td>\n",
       "    </tr>\n",
       "    <tr>\n",
       "      <th>4</th>\n",
       "      <td>0.92</td>\n",
       "      <td>24.33</td>\n",
       "      <td>0.03</td>\n",
       "      <td>0.20</td>\n",
       "      <td>0.006</td>\n",
       "      <td>2.67</td>\n",
       "      <td>0.69</td>\n",
       "      <td>0.57</td>\n",
       "      <td>0.61</td>\n",
       "      <td>0.13</td>\n",
       "      <td>...</td>\n",
       "      <td>0.117</td>\n",
       "      <td>6.74</td>\n",
       "      <td>1.11</td>\n",
       "      <td>0.003</td>\n",
       "      <td>16.90</td>\n",
       "      <td>2.41</td>\n",
       "      <td>0.02</td>\n",
       "      <td>0.06</td>\n",
       "      <td>0.02</td>\n",
       "      <td>1</td>\n",
       "    </tr>\n",
       "  </tbody>\n",
       "</table>\n",
       "<p>5 rows × 21 columns</p>\n",
       "</div>"
      ],
      "text/plain": [
       "   aluminium ammonia  arsenic  barium  cadmium  chloramine  chromium  copper   \n",
       "0       1.65    9.08     0.04    2.85    0.007        0.35      0.83    0.17  \\\n",
       "1       2.32   21.16     0.01    3.31    0.002        5.28      0.68    0.66   \n",
       "2       1.01   14.02     0.04    0.58    0.008        4.24      0.53    0.02   \n",
       "3       1.36   11.33     0.04    2.96    0.001        7.23      0.03    1.66   \n",
       "4       0.92   24.33     0.03    0.20    0.006        2.67      0.69    0.57   \n",
       "\n",
       "   flouride  bacteria  ...   lead  nitrates  nitrites  mercury  perchlorate   \n",
       "0      0.05      0.20  ...  0.054     16.08      1.13    0.007        37.75  \\\n",
       "1      0.90      0.65  ...  0.100      2.01      1.93    0.003        32.26   \n",
       "2      0.99      0.05  ...  0.078     14.16      1.11    0.006        50.28   \n",
       "3      1.08      0.71  ...  0.016      1.41      1.29    0.004         9.12   \n",
       "4      0.61      0.13  ...  0.117      6.74      1.11    0.003        16.90   \n",
       "\n",
       "   radium  selenium  silver  uranium  is_safe  \n",
       "0    6.78      0.08    0.34     0.02        1  \n",
       "1    3.21      0.08    0.27     0.05        1  \n",
       "2    7.07      0.07    0.44     0.01        0  \n",
       "3    1.72      0.02    0.45     0.05        1  \n",
       "4    2.41      0.02    0.06     0.02        1  \n",
       "\n",
       "[5 rows x 21 columns]"
      ]
     },
     "execution_count": 3,
     "metadata": {},
     "output_type": "execute_result"
    }
   ],
   "source": [
    "df.head()"
   ]
  },
  {
   "cell_type": "markdown",
   "id": "bac3d6e9",
   "metadata": {},
   "source": [
    "As we can see, we have a total of 7999 rows and 21 columns:"
   ]
  },
  {
   "cell_type": "code",
   "execution_count": 4,
   "id": "9b7d26c4",
   "metadata": {},
   "outputs": [
    {
     "data": {
      "text/plain": [
       "(7999, 21)"
      ]
     },
     "execution_count": 4,
     "metadata": {},
     "output_type": "execute_result"
    }
   ],
   "source": [
    "df.shape"
   ]
  },
  {
   "cell_type": "markdown",
   "id": "e7f22ced",
   "metadata": {},
   "source": [
    "General statistics to ensure validity of our data:"
   ]
  },
  {
   "cell_type": "code",
   "execution_count": 5,
   "id": "dc80a391",
   "metadata": {},
   "outputs": [
    {
     "data": {
      "text/html": [
       "<div>\n",
       "<style scoped>\n",
       "    .dataframe tbody tr th:only-of-type {\n",
       "        vertical-align: middle;\n",
       "    }\n",
       "\n",
       "    .dataframe tbody tr th {\n",
       "        vertical-align: top;\n",
       "    }\n",
       "\n",
       "    .dataframe thead th {\n",
       "        text-align: right;\n",
       "    }\n",
       "</style>\n",
       "<table border=\"1\" class=\"dataframe\">\n",
       "  <thead>\n",
       "    <tr style=\"text-align: right;\">\n",
       "      <th></th>\n",
       "      <th>aluminium</th>\n",
       "      <th>arsenic</th>\n",
       "      <th>barium</th>\n",
       "      <th>cadmium</th>\n",
       "      <th>chloramine</th>\n",
       "      <th>chromium</th>\n",
       "      <th>copper</th>\n",
       "      <th>flouride</th>\n",
       "      <th>bacteria</th>\n",
       "      <th>viruses</th>\n",
       "      <th>lead</th>\n",
       "      <th>nitrates</th>\n",
       "      <th>nitrites</th>\n",
       "      <th>mercury</th>\n",
       "      <th>perchlorate</th>\n",
       "      <th>radium</th>\n",
       "      <th>selenium</th>\n",
       "      <th>silver</th>\n",
       "      <th>uranium</th>\n",
       "    </tr>\n",
       "  </thead>\n",
       "  <tbody>\n",
       "    <tr>\n",
       "      <th>count</th>\n",
       "      <td>7999.000000</td>\n",
       "      <td>7999.000000</td>\n",
       "      <td>7999.000000</td>\n",
       "      <td>7999.000000</td>\n",
       "      <td>7999.000000</td>\n",
       "      <td>7999.000000</td>\n",
       "      <td>7999.000000</td>\n",
       "      <td>7999.000000</td>\n",
       "      <td>7999.000000</td>\n",
       "      <td>7999.000000</td>\n",
       "      <td>7999.000000</td>\n",
       "      <td>7999.000000</td>\n",
       "      <td>7999.000000</td>\n",
       "      <td>7999.000000</td>\n",
       "      <td>7999.000000</td>\n",
       "      <td>7999.000000</td>\n",
       "      <td>7999.000000</td>\n",
       "      <td>7999.000000</td>\n",
       "      <td>7999.000000</td>\n",
       "    </tr>\n",
       "    <tr>\n",
       "      <th>mean</th>\n",
       "      <td>0.666158</td>\n",
       "      <td>0.161445</td>\n",
       "      <td>1.567715</td>\n",
       "      <td>0.042806</td>\n",
       "      <td>2.176831</td>\n",
       "      <td>0.247226</td>\n",
       "      <td>0.805857</td>\n",
       "      <td>0.771565</td>\n",
       "      <td>0.319665</td>\n",
       "      <td>0.328583</td>\n",
       "      <td>0.099450</td>\n",
       "      <td>9.818822</td>\n",
       "      <td>1.329961</td>\n",
       "      <td>0.005194</td>\n",
       "      <td>16.460299</td>\n",
       "      <td>2.920548</td>\n",
       "      <td>0.049685</td>\n",
       "      <td>0.147781</td>\n",
       "      <td>0.044673</td>\n",
       "    </tr>\n",
       "    <tr>\n",
       "      <th>std</th>\n",
       "      <td>1.265145</td>\n",
       "      <td>0.252590</td>\n",
       "      <td>1.216091</td>\n",
       "      <td>0.036049</td>\n",
       "      <td>2.567027</td>\n",
       "      <td>0.270640</td>\n",
       "      <td>0.653539</td>\n",
       "      <td>0.435373</td>\n",
       "      <td>0.329485</td>\n",
       "      <td>0.378096</td>\n",
       "      <td>0.058172</td>\n",
       "      <td>5.541331</td>\n",
       "      <td>0.573219</td>\n",
       "      <td>0.002967</td>\n",
       "      <td>17.687474</td>\n",
       "      <td>2.323009</td>\n",
       "      <td>0.028770</td>\n",
       "      <td>0.143551</td>\n",
       "      <td>0.026904</td>\n",
       "    </tr>\n",
       "    <tr>\n",
       "      <th>min</th>\n",
       "      <td>0.000000</td>\n",
       "      <td>0.000000</td>\n",
       "      <td>0.000000</td>\n",
       "      <td>0.000000</td>\n",
       "      <td>0.000000</td>\n",
       "      <td>0.000000</td>\n",
       "      <td>0.000000</td>\n",
       "      <td>0.000000</td>\n",
       "      <td>0.000000</td>\n",
       "      <td>0.000000</td>\n",
       "      <td>0.000000</td>\n",
       "      <td>0.000000</td>\n",
       "      <td>0.000000</td>\n",
       "      <td>0.000000</td>\n",
       "      <td>0.000000</td>\n",
       "      <td>0.000000</td>\n",
       "      <td>0.000000</td>\n",
       "      <td>0.000000</td>\n",
       "      <td>0.000000</td>\n",
       "    </tr>\n",
       "    <tr>\n",
       "      <th>25%</th>\n",
       "      <td>0.040000</td>\n",
       "      <td>0.030000</td>\n",
       "      <td>0.560000</td>\n",
       "      <td>0.008000</td>\n",
       "      <td>0.100000</td>\n",
       "      <td>0.050000</td>\n",
       "      <td>0.090000</td>\n",
       "      <td>0.405000</td>\n",
       "      <td>0.000000</td>\n",
       "      <td>0.002000</td>\n",
       "      <td>0.048000</td>\n",
       "      <td>5.000000</td>\n",
       "      <td>1.000000</td>\n",
       "      <td>0.003000</td>\n",
       "      <td>2.170000</td>\n",
       "      <td>0.820000</td>\n",
       "      <td>0.020000</td>\n",
       "      <td>0.040000</td>\n",
       "      <td>0.020000</td>\n",
       "    </tr>\n",
       "    <tr>\n",
       "      <th>50%</th>\n",
       "      <td>0.070000</td>\n",
       "      <td>0.050000</td>\n",
       "      <td>1.190000</td>\n",
       "      <td>0.040000</td>\n",
       "      <td>0.530000</td>\n",
       "      <td>0.090000</td>\n",
       "      <td>0.750000</td>\n",
       "      <td>0.770000</td>\n",
       "      <td>0.220000</td>\n",
       "      <td>0.008000</td>\n",
       "      <td>0.102000</td>\n",
       "      <td>9.930000</td>\n",
       "      <td>1.420000</td>\n",
       "      <td>0.005000</td>\n",
       "      <td>7.740000</td>\n",
       "      <td>2.410000</td>\n",
       "      <td>0.050000</td>\n",
       "      <td>0.080000</td>\n",
       "      <td>0.050000</td>\n",
       "    </tr>\n",
       "    <tr>\n",
       "      <th>75%</th>\n",
       "      <td>0.280000</td>\n",
       "      <td>0.100000</td>\n",
       "      <td>2.480000</td>\n",
       "      <td>0.070000</td>\n",
       "      <td>4.240000</td>\n",
       "      <td>0.440000</td>\n",
       "      <td>1.390000</td>\n",
       "      <td>1.160000</td>\n",
       "      <td>0.610000</td>\n",
       "      <td>0.700000</td>\n",
       "      <td>0.151000</td>\n",
       "      <td>14.610000</td>\n",
       "      <td>1.760000</td>\n",
       "      <td>0.008000</td>\n",
       "      <td>29.480000</td>\n",
       "      <td>4.670000</td>\n",
       "      <td>0.070000</td>\n",
       "      <td>0.240000</td>\n",
       "      <td>0.070000</td>\n",
       "    </tr>\n",
       "    <tr>\n",
       "      <th>max</th>\n",
       "      <td>5.050000</td>\n",
       "      <td>1.050000</td>\n",
       "      <td>4.940000</td>\n",
       "      <td>0.130000</td>\n",
       "      <td>8.680000</td>\n",
       "      <td>0.900000</td>\n",
       "      <td>2.000000</td>\n",
       "      <td>1.500000</td>\n",
       "      <td>1.000000</td>\n",
       "      <td>1.000000</td>\n",
       "      <td>0.200000</td>\n",
       "      <td>19.830000</td>\n",
       "      <td>2.930000</td>\n",
       "      <td>0.010000</td>\n",
       "      <td>60.010000</td>\n",
       "      <td>7.990000</td>\n",
       "      <td>0.100000</td>\n",
       "      <td>0.500000</td>\n",
       "      <td>0.090000</td>\n",
       "    </tr>\n",
       "  </tbody>\n",
       "</table>\n",
       "</div>"
      ],
      "text/plain": [
       "         aluminium      arsenic       barium      cadmium   chloramine   \n",
       "count  7999.000000  7999.000000  7999.000000  7999.000000  7999.000000  \\\n",
       "mean      0.666158     0.161445     1.567715     0.042806     2.176831   \n",
       "std       1.265145     0.252590     1.216091     0.036049     2.567027   \n",
       "min       0.000000     0.000000     0.000000     0.000000     0.000000   \n",
       "25%       0.040000     0.030000     0.560000     0.008000     0.100000   \n",
       "50%       0.070000     0.050000     1.190000     0.040000     0.530000   \n",
       "75%       0.280000     0.100000     2.480000     0.070000     4.240000   \n",
       "max       5.050000     1.050000     4.940000     0.130000     8.680000   \n",
       "\n",
       "          chromium       copper     flouride     bacteria      viruses   \n",
       "count  7999.000000  7999.000000  7999.000000  7999.000000  7999.000000  \\\n",
       "mean      0.247226     0.805857     0.771565     0.319665     0.328583   \n",
       "std       0.270640     0.653539     0.435373     0.329485     0.378096   \n",
       "min       0.000000     0.000000     0.000000     0.000000     0.000000   \n",
       "25%       0.050000     0.090000     0.405000     0.000000     0.002000   \n",
       "50%       0.090000     0.750000     0.770000     0.220000     0.008000   \n",
       "75%       0.440000     1.390000     1.160000     0.610000     0.700000   \n",
       "max       0.900000     2.000000     1.500000     1.000000     1.000000   \n",
       "\n",
       "              lead     nitrates     nitrites      mercury  perchlorate   \n",
       "count  7999.000000  7999.000000  7999.000000  7999.000000  7999.000000  \\\n",
       "mean      0.099450     9.818822     1.329961     0.005194    16.460299   \n",
       "std       0.058172     5.541331     0.573219     0.002967    17.687474   \n",
       "min       0.000000     0.000000     0.000000     0.000000     0.000000   \n",
       "25%       0.048000     5.000000     1.000000     0.003000     2.170000   \n",
       "50%       0.102000     9.930000     1.420000     0.005000     7.740000   \n",
       "75%       0.151000    14.610000     1.760000     0.008000    29.480000   \n",
       "max       0.200000    19.830000     2.930000     0.010000    60.010000   \n",
       "\n",
       "            radium     selenium       silver      uranium  \n",
       "count  7999.000000  7999.000000  7999.000000  7999.000000  \n",
       "mean      2.920548     0.049685     0.147781     0.044673  \n",
       "std       2.323009     0.028770     0.143551     0.026904  \n",
       "min       0.000000     0.000000     0.000000     0.000000  \n",
       "25%       0.820000     0.020000     0.040000     0.020000  \n",
       "50%       2.410000     0.050000     0.080000     0.050000  \n",
       "75%       4.670000     0.070000     0.240000     0.070000  \n",
       "max       7.990000     0.100000     0.500000     0.090000  "
      ]
     },
     "execution_count": 5,
     "metadata": {},
     "output_type": "execute_result"
    }
   ],
   "source": [
    "df.describe()"
   ]
  },
  {
   "cell_type": "markdown",
   "id": "bdffb5fd",
   "metadata": {},
   "source": [
    "Let's make sure the labels look good as well:"
   ]
  },
  {
   "cell_type": "code",
   "execution_count": 6,
   "id": "f1635483",
   "metadata": {},
   "outputs": [
    {
     "data": {
      "text/plain": [
       "is_safe\n",
       "0        7084\n",
       "1         912\n",
       "#NUM!       3\n",
       "Name: count, dtype: int64"
      ]
     },
     "execution_count": 6,
     "metadata": {},
     "output_type": "execute_result"
    }
   ],
   "source": [
    "df['is_safe'].value_counts()"
   ]
  },
  {
   "cell_type": "markdown",
   "id": "d3e98fdc",
   "metadata": {},
   "source": [
    "We notice 3 rows with missing values. Considering we have nearly 8,000 records, we can simply drop those rows:"
   ]
  },
  {
   "cell_type": "code",
   "execution_count": 7,
   "id": "8121131b",
   "metadata": {},
   "outputs": [],
   "source": [
    "df.drop(df[df['is_safe'] == '#NUM!'].index, inplace=True)"
   ]
  },
  {
   "cell_type": "markdown",
   "id": "62932adc",
   "metadata": {},
   "source": [
    "We double check to ensure missing values have been removed:"
   ]
  },
  {
   "cell_type": "code",
   "execution_count": 8,
   "id": "57c221c7",
   "metadata": {},
   "outputs": [
    {
     "data": {
      "text/plain": [
       "is_safe\n",
       "0    7084\n",
       "1     912\n",
       "Name: count, dtype: int64"
      ]
     },
     "execution_count": 8,
     "metadata": {},
     "output_type": "execute_result"
    }
   ],
   "source": [
    "df['is_safe'].value_counts()"
   ]
  },
  {
   "cell_type": "markdown",
   "id": "4fc4299a",
   "metadata": {},
   "source": [
    "Finally, we select the independent and dependant variables:"
   ]
  },
  {
   "cell_type": "code",
   "execution_count": 9,
   "id": "58b84e7a",
   "metadata": {
    "scrolled": true
   },
   "outputs": [
    {
     "name": "stdout",
     "output_type": "stream",
     "text": [
      "      aluminium ammonia  arsenic  barium  cadmium  chloramine  chromium   \n",
      "0          1.65    9.08     0.04    2.85    0.007        0.35      0.83  \\\n",
      "1          2.32   21.16     0.01    3.31    0.002        5.28      0.68   \n",
      "2          1.01   14.02     0.04    0.58    0.008        4.24      0.53   \n",
      "3          1.36   11.33     0.04    2.96    0.001        7.23      0.03   \n",
      "4          0.92   24.33     0.03    0.20    0.006        2.67      0.69   \n",
      "...         ...     ...      ...     ...      ...         ...       ...   \n",
      "7994       0.05    7.78     0.00    1.95    0.040        0.10      0.03   \n",
      "7995       0.05   24.22     0.02    0.59    0.010        0.45      0.02   \n",
      "7996       0.09    6.85     0.00    0.61    0.030        0.05      0.05   \n",
      "7997       0.01      10     0.01    2.00    0.000        2.00      0.00   \n",
      "7998       0.04    6.85     0.01    0.70    0.030        0.05      0.01   \n",
      "\n",
      "      copper  flouride  bacteria  viruses   lead  nitrates  nitrites  mercury   \n",
      "0       0.17      0.05      0.20    0.000  0.054     16.08      1.13    0.007  \\\n",
      "1       0.66      0.90      0.65    0.650  0.100      2.01      1.93    0.003   \n",
      "2       0.02      0.99      0.05    0.003  0.078     14.16      1.11    0.006   \n",
      "3       1.66      1.08      0.71    0.710  0.016      1.41      1.29    0.004   \n",
      "4       0.57      0.61      0.13    0.001  0.117      6.74      1.11    0.003   \n",
      "...      ...       ...       ...      ...    ...       ...       ...      ...   \n",
      "7994    0.03      1.37      0.00    0.000  0.197     14.29      1.00    0.005   \n",
      "7995    0.02      1.48      0.00    0.000  0.031     10.27      1.00    0.001   \n",
      "7996    0.02      0.91      0.00    0.000  0.182     15.92      1.00    0.000   \n",
      "7997    0.09      0.00      0.00    0.000  0.000      0.00      0.00    0.000   \n",
      "7998    0.03      1.00      0.00    0.000  0.182     15.92      1.00    0.000   \n",
      "\n",
      "      perchlorate  radium  selenium  silver  uranium  \n",
      "0           37.75    6.78      0.08    0.34     0.02  \n",
      "1           32.26    3.21      0.08    0.27     0.05  \n",
      "2           50.28    7.07      0.07    0.44     0.01  \n",
      "3            9.12    1.72      0.02    0.45     0.05  \n",
      "4           16.90    2.41      0.02    0.06     0.02  \n",
      "...           ...     ...       ...     ...      ...  \n",
      "7994         3.57    2.13      0.09    0.06     0.03  \n",
      "7995         1.48    1.11      0.09    0.10     0.08  \n",
      "7996         1.35    4.84      0.00    0.04     0.05  \n",
      "7997         0.00    0.00      0.00    0.00     0.00  \n",
      "7998         1.35    4.84      0.00    0.04     0.05  \n",
      "\n",
      "[7996 rows x 20 columns]\n",
      "0       1\n",
      "1       1\n",
      "2       0\n",
      "3       1\n",
      "4       1\n",
      "       ..\n",
      "7994    1\n",
      "7995    1\n",
      "7996    1\n",
      "7997    1\n",
      "7998    1\n",
      "Name: is_safe, Length: 7996, dtype: object\n"
     ]
    }
   ],
   "source": [
    "x = df.drop(columns='is_safe')\n",
    "y = df['is_safe']\n",
    "print(x)\n",
    "print(y)"
   ]
  },
  {
   "cell_type": "markdown",
   "id": "b5c73e17",
   "metadata": {},
   "source": [
    "## Training and Test Data"
   ]
  },
  {
   "cell_type": "markdown",
   "id": "9a461b1e",
   "metadata": {},
   "source": [
    "We begin by splitting our dataset into training and testing data. Considering there are many more data of safe water than unsafe, we use **startify** to ensure the split data is proportional. We also specify that we want to use 20% of the dataset for testing. The **random_state** simply ensures we get the same split when we rerun the code:"
   ]
  },
  {
   "cell_type": "code",
   "execution_count": 10,
   "id": "1cca9fb8",
   "metadata": {},
   "outputs": [],
   "source": [
    "x_train, x_test, y_train, y_test = train_test_split(x, y, test_size = 0.2, stratify=y, random_state=0)"
   ]
  },
  {
   "cell_type": "markdown",
   "id": "5e0d958a",
   "metadata": {},
   "source": [
    "Some common statistics to make sure the split sizes are correct:"
   ]
  },
  {
   "cell_type": "code",
   "execution_count": 11,
   "id": "d5d2bfa7",
   "metadata": {},
   "outputs": [
    {
     "name": "stdout",
     "output_type": "stream",
     "text": [
      "(7996, 20) (6396, 20) (1600, 20)\n"
     ]
    }
   ],
   "source": [
    "print(x.shape, x_train.shape, x_test.shape)"
   ]
  },
  {
   "cell_type": "code",
   "execution_count": 12,
   "id": "47c32f6e",
   "metadata": {},
   "outputs": [
    {
     "name": "stdout",
     "output_type": "stream",
     "text": [
      "(7996,) (6396,) (1600,)\n"
     ]
    }
   ],
   "source": [
    "print(y.shape, y_train.shape, y_test.shape)"
   ]
  },
  {
   "cell_type": "markdown",
   "id": "f335f87b",
   "metadata": {},
   "source": [
    "We also view the data to make sure everything looks alright: "
   ]
  },
  {
   "cell_type": "code",
   "execution_count": 13,
   "id": "45d9100b",
   "metadata": {},
   "outputs": [
    {
     "name": "stdout",
     "output_type": "stream",
     "text": [
      "      aluminium ammonia  arsenic  barium  cadmium  chloramine  chromium   \n",
      "2825       0.00   29.37    0.040    1.32    0.006        6.35      0.80  \\\n",
      "3360       0.08   26.12    0.490    3.12    0.090        7.11      0.63   \n",
      "1896       1.12   22.73    0.040    2.21    0.050        3.64      0.05   \n",
      "1436       0.68   24.88    0.340    3.81    0.100        5.75      0.58   \n",
      "5456       0.05    8.73    0.090    1.09    0.080        0.04      0.06   \n",
      "...         ...     ...      ...     ...      ...         ...       ...   \n",
      "4957       0.01   24.63    0.020    0.03    0.040        0.02      0.08   \n",
      "878        2.02   24.89    0.001    2.40    0.005        4.90      0.59   \n",
      "5860       0.04    5.69    0.050    0.56    0.060        0.01      0.10   \n",
      "4668       0.05    3.31    0.070    0.99    0.000        0.16      0.06   \n",
      "2039       0.08    19.9    0.030    2.67    0.006        4.30      0.26   \n",
      "\n",
      "      copper  flouride  bacteria  viruses   lead  nitrates  nitrites  mercury   \n",
      "2825    1.25      1.34      0.79    0.790  0.037      6.42      1.13    0.010  \\\n",
      "3360    1.65      0.50      0.09    0.006  0.180      4.51      1.55    0.001   \n",
      "1896    1.65      0.61      0.78    0.780  0.146     17.18      1.82    0.003   \n",
      "1436    0.77      0.79      0.00    0.001  0.147      0.94      2.17    0.006   \n",
      "5456    1.49      1.45      0.00    0.009  0.159      3.27      0.09    0.001   \n",
      "...      ...       ...       ...      ...    ...       ...       ...      ...   \n",
      "4957    0.06      1.02      0.04    0.001  0.075      1.79      0.24    0.000   \n",
      "878     1.07      1.04      0.00    0.000  0.043      2.65      1.87    0.002   \n",
      "5860    1.64      0.78      0.80    0.800  0.092      1.58      0.97    0.010   \n",
      "4668    0.04      1.43      0.00    0.970  0.118      2.17      0.50    0.002   \n",
      "2039    0.08      0.34      0.26    0.003  0.146      7.96      1.56    0.006   \n",
      "\n",
      "      perchlorate  radium  selenium  silver  uranium  \n",
      "2825        53.87    4.53      0.05    0.01     0.08  \n",
      "3360        56.66    4.28      0.08    0.03     0.07  \n",
      "1896         4.59    4.90      0.05    0.48     0.06  \n",
      "1436        39.25    0.09      0.02    0.37     0.06  \n",
      "5456         0.38    4.20      0.04    0.05     0.00  \n",
      "...           ...     ...       ...     ...      ...  \n",
      "4957         9.84    0.80      0.03    0.00     0.06  \n",
      "878         35.64    3.13      0.08    0.27     0.00  \n",
      "5860         3.21    0.97      0.00    0.06     0.03  \n",
      "4668         0.99    4.00      0.03    0.08     0.00  \n",
      "2039        51.39    2.41      0.09    0.12     0.05  \n",
      "\n",
      "[6396 rows x 20 columns]\n",
      "2825    0\n",
      "3360    0\n",
      "1896    0\n",
      "1436    0\n",
      "5456    0\n",
      "       ..\n",
      "4957    0\n",
      "878     0\n",
      "5860    0\n",
      "4668    0\n",
      "2039    0\n",
      "Name: is_safe, Length: 6396, dtype: object\n"
     ]
    }
   ],
   "source": [
    "print(x_train)\n",
    "print(y_train)"
   ]
  },
  {
   "cell_type": "code",
   "execution_count": 14,
   "id": "d257c736",
   "metadata": {
    "scrolled": true
   },
   "outputs": [
    {
     "name": "stdout",
     "output_type": "stream",
     "text": [
      "      aluminium ammonia  arsenic  barium  cadmium  chloramine  chromium   \n",
      "6573       0.01   25.28     0.10    1.44    0.030        0.11      0.07  \\\n",
      "6590       0.07    2.62     0.06    0.23    0.070        0.02      0.07   \n",
      "639        2.72   25.99     0.01    3.06    0.002        3.36      0.63   \n",
      "3947       0.03    3.24     0.26    1.32    0.030        8.33      0.51   \n",
      "6539       0.06   24.81     0.10    0.14    0.090        0.07      0.05   \n",
      "...         ...     ...      ...     ...      ...         ...       ...   \n",
      "3914       0.04   27.83     0.20    4.51    0.120        7.73      0.27   \n",
      "4066       0.03   21.79     0.09    0.42    0.060        0.33      0.01   \n",
      "5653       0.06   18.38     0.06    0.69    0.010        0.07      0.08   \n",
      "515        2.24    5.52     0.03    0.80    0.003        4.16      0.54   \n",
      "5690       0.04    9.47     0.10    1.01    0.100        0.03      0.06   \n",
      "\n",
      "      copper  flouride  bacteria  viruses   lead  nitrates  nitrites  mercury   \n",
      "6573    0.76      1.05      0.40    0.007  0.185     13.73      1.98    0.003  \\\n",
      "6590    0.70      0.74      0.95    0.950  0.124     15.45      1.20    0.000   \n",
      "639     1.26      0.34      0.94    0.940  0.093      7.60      1.72    0.007   \n",
      "3947    0.09      0.46      0.22    0.001  0.165      6.06      1.97    0.002   \n",
      "6539    0.40      0.59      0.61    0.610  0.040     18.49      1.38    0.010   \n",
      "...      ...       ...       ...      ...    ...       ...       ...      ...   \n",
      "3914    0.05      1.39      0.89    0.890  0.005      8.56      1.47    0.005   \n",
      "4066    0.02      0.20      0.00    0.510  0.105      5.88      0.17    0.002   \n",
      "5653    0.51      0.92      0.14    0.006  0.072      1.84      0.72    0.010   \n",
      "515     0.04      0.60      0.39    0.009  0.016      2.50      1.40    0.002   \n",
      "5690    0.73      0.64      0.47    0.007  0.089     18.90      0.49    0.006   \n",
      "\n",
      "      perchlorate  radium  selenium  silver  uranium  \n",
      "6573         0.35    1.64      0.05    0.07     0.07  \n",
      "6590         8.73    0.96      0.08    0.05     0.07  \n",
      "639         31.21    5.12      0.05    0.12     0.04  \n",
      "3947        45.08    0.00      0.05    0.04     0.06  \n",
      "6539         1.40    0.64      0.03    0.03     0.02  \n",
      "...           ...     ...       ...     ...      ...  \n",
      "3914        11.79    3.37      0.08    0.13     0.00  \n",
      "4066         5.92    0.21      0.04    0.05     0.05  \n",
      "5653        10.15    4.52      0.06    0.05     0.06  \n",
      "515         18.77    7.42      0.05    0.10     0.08  \n",
      "5690        11.43    0.06      0.04    0.09     0.06  \n",
      "\n",
      "[1600 rows x 20 columns]\n",
      "6573    0\n",
      "6590    0\n",
      "639     0\n",
      "3947    0\n",
      "6539    0\n",
      "       ..\n",
      "3914    0\n",
      "4066    0\n",
      "5653    0\n",
      "515     1\n",
      "5690    0\n",
      "Name: is_safe, Length: 1600, dtype: object\n"
     ]
    }
   ],
   "source": [
    "print(x_test)\n",
    "print(y_test)"
   ]
  },
  {
   "cell_type": "markdown",
   "id": "b070b6fd",
   "metadata": {},
   "source": [
    "## Model Training"
   ]
  },
  {
   "cell_type": "markdown",
   "id": "bc5435ba",
   "metadata": {},
   "source": [
    "It's time to train our model. We decided to use logistic regression, a supervised machine-learning model that is suitable for binary classification:"
   ]
  },
  {
   "cell_type": "code",
   "execution_count": 15,
   "id": "794f7a01",
   "metadata": {},
   "outputs": [],
   "source": [
    "model = LogisticRegression()"
   ]
  },
  {
   "cell_type": "markdown",
   "id": "5a96c45f",
   "metadata": {},
   "source": [
    "Fitting our data with the default **max_iter=100** causes an error:"
   ]
  },
  {
   "cell_type": "code",
   "execution_count": 16,
   "id": "c693d237",
   "metadata": {},
   "outputs": [
    {
     "name": "stderr",
     "output_type": "stream",
     "text": [
      "C:\\Users\\saidm\\OneDrive\\Projects\\python-projects\\jupyter-notebooks\\venv\\lib\\site-packages\\sklearn\\linear_model\\_logistic.py:458: ConvergenceWarning: lbfgs failed to converge (status=1):\n",
      "STOP: TOTAL NO. of ITERATIONS REACHED LIMIT.\n",
      "\n",
      "Increase the number of iterations (max_iter) or scale the data as shown in:\n",
      "    https://scikit-learn.org/stable/modules/preprocessing.html\n",
      "Please also refer to the documentation for alternative solver options:\n",
      "    https://scikit-learn.org/stable/modules/linear_model.html#logistic-regression\n",
      "  n_iter_i = _check_optimize_result(\n"
     ]
    },
    {
     "data": {
      "text/html": [
       "<style>#sk-container-id-1 {color: black;background-color: white;}#sk-container-id-1 pre{padding: 0;}#sk-container-id-1 div.sk-toggleable {background-color: white;}#sk-container-id-1 label.sk-toggleable__label {cursor: pointer;display: block;width: 100%;margin-bottom: 0;padding: 0.3em;box-sizing: border-box;text-align: center;}#sk-container-id-1 label.sk-toggleable__label-arrow:before {content: \"▸\";float: left;margin-right: 0.25em;color: #696969;}#sk-container-id-1 label.sk-toggleable__label-arrow:hover:before {color: black;}#sk-container-id-1 div.sk-estimator:hover label.sk-toggleable__label-arrow:before {color: black;}#sk-container-id-1 div.sk-toggleable__content {max-height: 0;max-width: 0;overflow: hidden;text-align: left;background-color: #f0f8ff;}#sk-container-id-1 div.sk-toggleable__content pre {margin: 0.2em;color: black;border-radius: 0.25em;background-color: #f0f8ff;}#sk-container-id-1 input.sk-toggleable__control:checked~div.sk-toggleable__content {max-height: 200px;max-width: 100%;overflow: auto;}#sk-container-id-1 input.sk-toggleable__control:checked~label.sk-toggleable__label-arrow:before {content: \"▾\";}#sk-container-id-1 div.sk-estimator input.sk-toggleable__control:checked~label.sk-toggleable__label {background-color: #d4ebff;}#sk-container-id-1 div.sk-label input.sk-toggleable__control:checked~label.sk-toggleable__label {background-color: #d4ebff;}#sk-container-id-1 input.sk-hidden--visually {border: 0;clip: rect(1px 1px 1px 1px);clip: rect(1px, 1px, 1px, 1px);height: 1px;margin: -1px;overflow: hidden;padding: 0;position: absolute;width: 1px;}#sk-container-id-1 div.sk-estimator {font-family: monospace;background-color: #f0f8ff;border: 1px dotted black;border-radius: 0.25em;box-sizing: border-box;margin-bottom: 0.5em;}#sk-container-id-1 div.sk-estimator:hover {background-color: #d4ebff;}#sk-container-id-1 div.sk-parallel-item::after {content: \"\";width: 100%;border-bottom: 1px solid gray;flex-grow: 1;}#sk-container-id-1 div.sk-label:hover label.sk-toggleable__label {background-color: #d4ebff;}#sk-container-id-1 div.sk-serial::before {content: \"\";position: absolute;border-left: 1px solid gray;box-sizing: border-box;top: 0;bottom: 0;left: 50%;z-index: 0;}#sk-container-id-1 div.sk-serial {display: flex;flex-direction: column;align-items: center;background-color: white;padding-right: 0.2em;padding-left: 0.2em;position: relative;}#sk-container-id-1 div.sk-item {position: relative;z-index: 1;}#sk-container-id-1 div.sk-parallel {display: flex;align-items: stretch;justify-content: center;background-color: white;position: relative;}#sk-container-id-1 div.sk-item::before, #sk-container-id-1 div.sk-parallel-item::before {content: \"\";position: absolute;border-left: 1px solid gray;box-sizing: border-box;top: 0;bottom: 0;left: 50%;z-index: -1;}#sk-container-id-1 div.sk-parallel-item {display: flex;flex-direction: column;z-index: 1;position: relative;background-color: white;}#sk-container-id-1 div.sk-parallel-item:first-child::after {align-self: flex-end;width: 50%;}#sk-container-id-1 div.sk-parallel-item:last-child::after {align-self: flex-start;width: 50%;}#sk-container-id-1 div.sk-parallel-item:only-child::after {width: 0;}#sk-container-id-1 div.sk-dashed-wrapped {border: 1px dashed gray;margin: 0 0.4em 0.5em 0.4em;box-sizing: border-box;padding-bottom: 0.4em;background-color: white;}#sk-container-id-1 div.sk-label label {font-family: monospace;font-weight: bold;display: inline-block;line-height: 1.2em;}#sk-container-id-1 div.sk-label-container {text-align: center;}#sk-container-id-1 div.sk-container {/* jupyter's `normalize.less` sets `[hidden] { display: none; }` but bootstrap.min.css set `[hidden] { display: none !important; }` so we also need the `!important` here to be able to override the default hidden behavior on the sphinx rendered scikit-learn.org. See: https://github.com/scikit-learn/scikit-learn/issues/21755 */display: inline-block !important;position: relative;}#sk-container-id-1 div.sk-text-repr-fallback {display: none;}</style><div id=\"sk-container-id-1\" class=\"sk-top-container\"><div class=\"sk-text-repr-fallback\"><pre>LogisticRegression()</pre><b>In a Jupyter environment, please rerun this cell to show the HTML representation or trust the notebook. <br />On GitHub, the HTML representation is unable to render, please try loading this page with nbviewer.org.</b></div><div class=\"sk-container\" hidden><div class=\"sk-item\"><div class=\"sk-estimator sk-toggleable\"><input class=\"sk-toggleable__control sk-hidden--visually\" id=\"sk-estimator-id-1\" type=\"checkbox\" checked><label for=\"sk-estimator-id-1\" class=\"sk-toggleable__label sk-toggleable__label-arrow\">LogisticRegression</label><div class=\"sk-toggleable__content\"><pre>LogisticRegression()</pre></div></div></div></div></div>"
      ],
      "text/plain": [
       "LogisticRegression()"
      ]
     },
     "execution_count": 16,
     "metadata": {},
     "output_type": "execute_result"
    }
   ],
   "source": [
    "model.fit(x_train, y_train)"
   ]
  },
  {
   "cell_type": "markdown",
   "id": "9381d5fd",
   "metadata": {},
   "source": [
    "We increase **max_iter** and fit our data again. Much better!"
   ]
  },
  {
   "cell_type": "code",
   "execution_count": 17,
   "id": "e9a6f9e3",
   "metadata": {},
   "outputs": [],
   "source": [
    "model = LogisticRegression(max_iter=1000)"
   ]
  },
  {
   "cell_type": "code",
   "execution_count": 18,
   "id": "718cf2f2",
   "metadata": {
    "scrolled": true
   },
   "outputs": [
    {
     "data": {
      "text/html": [
       "<style>#sk-container-id-2 {color: black;background-color: white;}#sk-container-id-2 pre{padding: 0;}#sk-container-id-2 div.sk-toggleable {background-color: white;}#sk-container-id-2 label.sk-toggleable__label {cursor: pointer;display: block;width: 100%;margin-bottom: 0;padding: 0.3em;box-sizing: border-box;text-align: center;}#sk-container-id-2 label.sk-toggleable__label-arrow:before {content: \"▸\";float: left;margin-right: 0.25em;color: #696969;}#sk-container-id-2 label.sk-toggleable__label-arrow:hover:before {color: black;}#sk-container-id-2 div.sk-estimator:hover label.sk-toggleable__label-arrow:before {color: black;}#sk-container-id-2 div.sk-toggleable__content {max-height: 0;max-width: 0;overflow: hidden;text-align: left;background-color: #f0f8ff;}#sk-container-id-2 div.sk-toggleable__content pre {margin: 0.2em;color: black;border-radius: 0.25em;background-color: #f0f8ff;}#sk-container-id-2 input.sk-toggleable__control:checked~div.sk-toggleable__content {max-height: 200px;max-width: 100%;overflow: auto;}#sk-container-id-2 input.sk-toggleable__control:checked~label.sk-toggleable__label-arrow:before {content: \"▾\";}#sk-container-id-2 div.sk-estimator input.sk-toggleable__control:checked~label.sk-toggleable__label {background-color: #d4ebff;}#sk-container-id-2 div.sk-label input.sk-toggleable__control:checked~label.sk-toggleable__label {background-color: #d4ebff;}#sk-container-id-2 input.sk-hidden--visually {border: 0;clip: rect(1px 1px 1px 1px);clip: rect(1px, 1px, 1px, 1px);height: 1px;margin: -1px;overflow: hidden;padding: 0;position: absolute;width: 1px;}#sk-container-id-2 div.sk-estimator {font-family: monospace;background-color: #f0f8ff;border: 1px dotted black;border-radius: 0.25em;box-sizing: border-box;margin-bottom: 0.5em;}#sk-container-id-2 div.sk-estimator:hover {background-color: #d4ebff;}#sk-container-id-2 div.sk-parallel-item::after {content: \"\";width: 100%;border-bottom: 1px solid gray;flex-grow: 1;}#sk-container-id-2 div.sk-label:hover label.sk-toggleable__label {background-color: #d4ebff;}#sk-container-id-2 div.sk-serial::before {content: \"\";position: absolute;border-left: 1px solid gray;box-sizing: border-box;top: 0;bottom: 0;left: 50%;z-index: 0;}#sk-container-id-2 div.sk-serial {display: flex;flex-direction: column;align-items: center;background-color: white;padding-right: 0.2em;padding-left: 0.2em;position: relative;}#sk-container-id-2 div.sk-item {position: relative;z-index: 1;}#sk-container-id-2 div.sk-parallel {display: flex;align-items: stretch;justify-content: center;background-color: white;position: relative;}#sk-container-id-2 div.sk-item::before, #sk-container-id-2 div.sk-parallel-item::before {content: \"\";position: absolute;border-left: 1px solid gray;box-sizing: border-box;top: 0;bottom: 0;left: 50%;z-index: -1;}#sk-container-id-2 div.sk-parallel-item {display: flex;flex-direction: column;z-index: 1;position: relative;background-color: white;}#sk-container-id-2 div.sk-parallel-item:first-child::after {align-self: flex-end;width: 50%;}#sk-container-id-2 div.sk-parallel-item:last-child::after {align-self: flex-start;width: 50%;}#sk-container-id-2 div.sk-parallel-item:only-child::after {width: 0;}#sk-container-id-2 div.sk-dashed-wrapped {border: 1px dashed gray;margin: 0 0.4em 0.5em 0.4em;box-sizing: border-box;padding-bottom: 0.4em;background-color: white;}#sk-container-id-2 div.sk-label label {font-family: monospace;font-weight: bold;display: inline-block;line-height: 1.2em;}#sk-container-id-2 div.sk-label-container {text-align: center;}#sk-container-id-2 div.sk-container {/* jupyter's `normalize.less` sets `[hidden] { display: none; }` but bootstrap.min.css set `[hidden] { display: none !important; }` so we also need the `!important` here to be able to override the default hidden behavior on the sphinx rendered scikit-learn.org. See: https://github.com/scikit-learn/scikit-learn/issues/21755 */display: inline-block !important;position: relative;}#sk-container-id-2 div.sk-text-repr-fallback {display: none;}</style><div id=\"sk-container-id-2\" class=\"sk-top-container\"><div class=\"sk-text-repr-fallback\"><pre>LogisticRegression(max_iter=1000)</pre><b>In a Jupyter environment, please rerun this cell to show the HTML representation or trust the notebook. <br />On GitHub, the HTML representation is unable to render, please try loading this page with nbviewer.org.</b></div><div class=\"sk-container\" hidden><div class=\"sk-item\"><div class=\"sk-estimator sk-toggleable\"><input class=\"sk-toggleable__control sk-hidden--visually\" id=\"sk-estimator-id-2\" type=\"checkbox\" checked><label for=\"sk-estimator-id-2\" class=\"sk-toggleable__label sk-toggleable__label-arrow\">LogisticRegression</label><div class=\"sk-toggleable__content\"><pre>LogisticRegression(max_iter=1000)</pre></div></div></div></div></div>"
      ],
      "text/plain": [
       "LogisticRegression(max_iter=1000)"
      ]
     },
     "execution_count": 18,
     "metadata": {},
     "output_type": "execute_result"
    }
   ],
   "source": [
    "model.fit(x_train.values, y_train.values)"
   ]
  },
  {
   "cell_type": "markdown",
   "id": "6b4ba910",
   "metadata": {},
   "source": [
    "We make predictions using our test data:"
   ]
  },
  {
   "cell_type": "code",
   "execution_count": 19,
   "id": "310947d1",
   "metadata": {},
   "outputs": [],
   "source": [
    "y_test_pred = model.predict(x_test.values)"
   ]
  },
  {
   "cell_type": "markdown",
   "id": "bb79032a",
   "metadata": {},
   "source": [
    "## Model Evaluation"
   ]
  },
  {
   "cell_type": "markdown",
   "id": "f5fff157",
   "metadata": {},
   "source": [
    "We test our model with accuracy score using the true labels of our test data and the predicted ones:"
   ]
  },
  {
   "cell_type": "code",
   "execution_count": 20,
   "id": "90b110fb",
   "metadata": {},
   "outputs": [],
   "source": [
    "accuracy = accuracy_score(y_test, y_test_pred)"
   ]
  },
  {
   "cell_type": "markdown",
   "id": "c9d3a77e",
   "metadata": {},
   "source": [
    "Great accuracy score of 90%!"
   ]
  },
  {
   "cell_type": "code",
   "execution_count": 21,
   "id": "0e700c2e",
   "metadata": {},
   "outputs": [
    {
     "name": "stdout",
     "output_type": "stream",
     "text": [
      "Accuracy score is:  0.90375\n"
     ]
    }
   ],
   "source": [
    "print('Accuracy score is: ', accuracy)"
   ]
  },
  {
   "cell_type": "markdown",
   "id": "3093c15d",
   "metadata": {},
   "source": [
    "## Making Predictions"
   ]
  },
  {
   "cell_type": "markdown",
   "id": "9562c246",
   "metadata": {},
   "source": [
    "We can use our model to make predictions:"
   ]
  },
  {
   "cell_type": "code",
   "execution_count": 22,
   "id": "c4e1a262",
   "metadata": {},
   "outputs": [
    {
     "name": "stdout",
     "output_type": "stream",
     "text": [
      "Water is safe to drink.\n"
     ]
    }
   ],
   "source": [
    "input_data = [(4.32,10.15,0.04,1.98,0.001,7.97,0.32,1.98,0.66,0.06,0.008,0.101,7.22,1.69,0.009,5.2,5.63,0.04,0.12,0.01)]\n",
    "\n",
    "prediction = model.predict(input_data)\n",
    "\n",
    "if prediction[0] == '1':\n",
    "    print(\"Water is safe to drink.\")\n",
    "else:\n",
    "    print('Warning! Water is unsafe!')"
   ]
  }
 ],
 "metadata": {
  "kernelspec": {
   "display_name": "Python 3 (ipykernel)",
   "language": "python",
   "name": "python3"
  },
  "language_info": {
   "codemirror_mode": {
    "name": "ipython",
    "version": 3
   },
   "file_extension": ".py",
   "mimetype": "text/x-python",
   "name": "python",
   "nbconvert_exporter": "python",
   "pygments_lexer": "ipython3",
   "version": "3.10.6"
  }
 },
 "nbformat": 4,
 "nbformat_minor": 5
}
